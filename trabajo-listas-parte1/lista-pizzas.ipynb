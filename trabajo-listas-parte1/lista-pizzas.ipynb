{
 "cells": [
  {
   "cell_type": "markdown",
   "id": "040af443-aa95-4eff-9a70-ecab2cfd6564",
   "metadata": {},
   "source": [
    "# Lista con tres tipos de pizzas"
   ]
  },
  {
   "cell_type": "code",
   "execution_count": 5,
   "id": "8fe22e82-2a5d-4cbe-b74b-abd93732a7ef",
   "metadata": {},
   "outputs": [],
   "source": [
    "pizzas = [\"Pizza Margarita\", \"Pizza Pepperoni\", \"Pizza Hawaiana\"]\n"
   ]
  },
  {
   "cell_type": "markdown",
   "id": "fc10b228-9037-4d96-8880-c892dc3effbe",
   "metadata": {},
   "source": [
    "# Bucle for para imprimir cada pizza"
   ]
  },
  {
   "cell_type": "code",
   "execution_count": 6,
   "id": "0a0dd88f-fb16-4cf4-95af-f45537330f21",
   "metadata": {},
   "outputs": [
    {
     "name": "stdout",
     "output_type": "stream",
     "text": [
      "Pizza Margarita\n",
      "Pizza Pepperoni\n",
      "Pizza Hawaiana\n"
     ]
    }
   ],
   "source": [
    "for pizza in pizzas:\n",
    "    print(pizza)"
   ]
  },
  {
   "cell_type": "markdown",
   "id": "d0805d0d-9f98-4aff-8085-3ba19803cc7e",
   "metadata": {},
   "source": [
    "# Lista con tres tipos de pizzas "
   ]
  },
  {
   "cell_type": "code",
   "execution_count": 11,
   "id": "dc529f45-5a42-4c73-b119-95181f860bad",
   "metadata": {},
   "outputs": [],
   "source": [
    "pizzas = [\"margarita\", \"pepperoni\", \"hawaiana\"]"
   ]
  },
  {
   "cell_type": "markdown",
   "id": "fea7373c-8053-4c6a-8618-b36479881cc4",
   "metadata": {},
   "source": [
    "# Bucle for para imprimir una oración con cada pizza"
   ]
  },
  {
   "cell_type": "code",
   "execution_count": 12,
   "id": "2d86a489-e77d-4563-b3c1-1af1318c815c",
   "metadata": {},
   "outputs": [
    {
     "name": "stdout",
     "output_type": "stream",
     "text": [
      "Me gusta la pizza de margarita.\n",
      "Me gusta la pizza de pepperoni.\n",
      "Me gusta la pizza de hawaiana.\n"
     ]
    }
   ],
   "source": [
    "for pizza in pizzas:\n",
    "    print(f\"Me gusta la pizza de {pizza}.\")"
   ]
  },
  {
   "cell_type": "markdown",
   "id": "dad5c53f-283f-4c64-b9a4-821e59b10285",
   "metadata": {},
   "source": [
    "# Línea final fuera del bucle"
   ]
  },
  {
   "cell_type": "code",
   "execution_count": 13,
   "id": "d716055d-57c9-44c0-8cc8-f609c468711b",
   "metadata": {},
   "outputs": [
    {
     "name": "stdout",
     "output_type": "stream",
     "text": [
      "¡me encanta la pizza, es de las mejores comidad!\n"
     ]
    }
   ],
   "source": [
    "print(\"¡me encanta la pizza, es de las mejores comidad!\")"
   ]
  },
  {
   "cell_type": "code",
   "execution_count": null,
   "id": "7871b19f-980a-401d-8fef-b0a849aa2c65",
   "metadata": {},
   "outputs": [],
   "source": []
  }
 ],
 "metadata": {
  "kernelspec": {
   "display_name": "Python 3 (ipykernel)",
   "language": "python",
   "name": "python3"
  },
  "language_info": {
   "codemirror_mode": {
    "name": "ipython",
    "version": 3
   },
   "file_extension": ".py",
   "mimetype": "text/x-python",
   "name": "python",
   "nbconvert_exporter": "python",
   "pygments_lexer": "ipython3",
   "version": "3.13.1"
  }
 },
 "nbformat": 4,
 "nbformat_minor": 5
}
