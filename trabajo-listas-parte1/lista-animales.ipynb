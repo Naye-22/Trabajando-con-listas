{
 "cells": [
  {
   "cell_type": "markdown",
   "id": "e1b1cd11-8cf5-4a88-83ab-beca53d6aed0",
   "metadata": {},
   "source": [
    "# Lista de animales que pueden volar"
   ]
  },
  {
   "cell_type": "code",
   "execution_count": 1,
   "id": "8ffafabc-640b-4f1d-8636-ab4ea927f04a",
   "metadata": {},
   "outputs": [],
   "source": [
    "animales_voladores = [\"águila\", \"murciélago\", \"loro\"]"
   ]
  },
  {
   "cell_type": "markdown",
   "id": "0f165962-948c-46b7-95f7-1960c0cb2a07",
   "metadata": {},
   "source": [
    "# Bucle for para imprimir el nombre de cada animal"
   ]
  },
  {
   "cell_type": "code",
   "execution_count": 2,
   "id": "9c76985a-f5ee-437a-bf4f-323076a81ac1",
   "metadata": {},
   "outputs": [
    {
     "name": "stdout",
     "output_type": "stream",
     "text": [
      "águila\n",
      "murciélago\n",
      "loro\n"
     ]
    }
   ],
   "source": [
    "for animal in animales_voladores:\n",
    "    print(animal)"
   ]
  },
  {
   "cell_type": "markdown",
   "id": "f7ca0fdd-8f85-4b5f-917e-5d9fedf9f36b",
   "metadata": {},
   "source": [
    "# Bucle for con oraciones personalizadas\n"
   ]
  },
  {
   "cell_type": "code",
   "execution_count": 3,
   "id": "01793a51-5b4a-4cc7-9427-e59be5a1d106",
   "metadata": {},
   "outputs": [
    {
     "name": "stdout",
     "output_type": "stream",
     "text": [
      "El águila tiene una vista impresionante y vuela a gran altura.\n",
      "El murciélago es el único mamífero capaz de volar activamente.\n",
      "El loro es un ave colorida que puede imitar sonidos humanos.\n"
     ]
    }
   ],
   "source": [
    "for animal in animales_voladores:\n",
    "    if animal == \"águila\":\n",
    "        print(\"El águila tiene una vista impresionante y vuela a gran altura.\")\n",
    "    elif animal == \"murciélago\":\n",
    "        print(\"El murciélago es el único mamífero capaz de volar activamente.\")\n",
    "    elif animal == \"loro\":\n",
    "        print(\"El loro es un ave colorida que puede imitar sonidos humanos.\")"
   ]
  },
  {
   "cell_type": "markdown",
   "id": "4361b213-5b06-4142-aa42-cba5e718f24d",
   "metadata": {},
   "source": [
    "# Línea final fuera del bucle\n"
   ]
  },
  {
   "cell_type": "code",
   "execution_count": 4,
   "id": "a1e5443b-b3b4-4371-9d31-d9b7ad68c30d",
   "metadata": {},
   "outputs": [
    {
     "name": "stdout",
     "output_type": "stream",
     "text": [
      "¡Todos estos animales tienen en común que pueden volar!\n"
     ]
    }
   ],
   "source": [
    "print(\"¡Todos estos animales tienen en común que pueden volar!\")"
   ]
  },
  {
   "cell_type": "code",
   "execution_count": null,
   "id": "02bfad91-5425-4649-af7e-250d914298d2",
   "metadata": {},
   "outputs": [],
   "source": []
  }
 ],
 "metadata": {
  "kernelspec": {
   "display_name": "Python 3 (ipykernel)",
   "language": "python",
   "name": "python3"
  },
  "language_info": {
   "codemirror_mode": {
    "name": "ipython",
    "version": 3
   },
   "file_extension": ".py",
   "mimetype": "text/x-python",
   "name": "python",
   "nbconvert_exporter": "python",
   "pygments_lexer": "ipython3",
   "version": "3.13.1"
  }
 },
 "nbformat": 4,
 "nbformat_minor": 5
}
